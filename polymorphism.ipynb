{
  "nbformat": 4,
  "nbformat_minor": 0,
  "metadata": {
    "colab": {
      "provenance": [],
      "authorship_tag": "ABX9TyNmNfOhlQ7t4lPLGdYjzg0M",
      "include_colab_link": true
    },
    "kernelspec": {
      "name": "python3",
      "display_name": "Python 3"
    },
    "language_info": {
      "name": "python"
    }
  },
  "cells": [
    {
      "cell_type": "markdown",
      "metadata": {
        "id": "view-in-github",
        "colab_type": "text"
      },
      "source": [
        "<a href=\"https://colab.research.google.com/github/urtumar/Python-programming/blob/main/polymorphism.ipynb\" target=\"_parent\"><img src=\"https://colab.research.google.com/assets/colab-badge.svg\" alt=\"Open In Colab\"/></a>"
      ]
    },
    {
      "cell_type": "code",
      "source": [
        "#POLYMORPHISM"
      ],
      "metadata": {
        "id": "lkOTZFzY8hwA"
      },
      "execution_count": null,
      "outputs": []
    },
    {
      "cell_type": "code",
      "execution_count": null,
      "metadata": {
        "id": "gAUqCIOm3TAm"
      },
      "outputs": [],
      "source": [
        "class Teacher:\n",
        "  def lec(self):\n",
        "    print(\"this is lecture info with teacher's prespective\")"
      ]
    },
    {
      "cell_type": "code",
      "source": [
        "class Student:\n",
        "  def lec(self):\n",
        "    print(\"this is lecture info with student's prespective\")"
      ],
      "metadata": {
        "id": "pi4TnIIH4o8A"
      },
      "execution_count": null,
      "outputs": []
    },
    {
      "cell_type": "code",
      "source": [
        "def new(obj):\n",
        "  for i in obj:\n",
        "    i.lec()\n"
      ],
      "metadata": {
        "id": "ZkzN4Jv94z9L"
      },
      "execution_count": null,
      "outputs": []
    },
    {
      "cell_type": "code",
      "source": [
        "obj1 = Teacher()\n",
        "obj2 = Student()"
      ],
      "metadata": {
        "id": "SBRghrlC5Z4E"
      },
      "execution_count": null,
      "outputs": []
    },
    {
      "cell_type": "code",
      "source": [
        "obj = [obj1, obj2]"
      ],
      "metadata": {
        "id": "jFmfmRpV5QD5"
      },
      "execution_count": null,
      "outputs": []
    },
    {
      "cell_type": "code",
      "source": [
        "new(obj)"
      ],
      "metadata": {
        "colab": {
          "base_uri": "https://localhost:8080/"
        },
        "id": "sjerEX4B5n7z",
        "outputId": "453350a9-c6af-4424-8d14-1fccfe78e435"
      },
      "execution_count": null,
      "outputs": [
        {
          "output_type": "stream",
          "name": "stdout",
          "text": [
            "this is lecture info with teacher's prespective\n",
            "this is lecture info with student's prespective\n"
          ]
        }
      ]
    },
    {
      "cell_type": "code",
      "source": [
        "#METHOD OVERLOADING ->THE LAST METHOD OVERWRITES THE PREVIOUS ONE"
      ],
      "metadata": {
        "id": "rYHWKKfw8bdJ"
      },
      "execution_count": null,
      "outputs": []
    },
    {
      "cell_type": "code",
      "source": [
        "class Std:\n",
        "  def std(self):\n",
        "    print(\"welcome to class\")\n",
        "\n",
        "  def std(self, name = \"\"):\n",
        "    print(\"welcome to class\",name)\n",
        "\n",
        "  def std(self,name =\"\" ,course = \"\"):\n",
        "    print(\"welcome to class\",name ,course)\n",
        "\n"
      ],
      "metadata": {
        "id": "7OG5A0G_6dLu"
      },
      "execution_count": null,
      "outputs": []
    },
    {
      "cell_type": "code",
      "source": [
        "obj = Std()\n",
        "obj.std()"
      ],
      "metadata": {
        "colab": {
          "base_uri": "https://localhost:8080/"
        },
        "id": "ezrNSYZP6hYB",
        "outputId": "75e3487c-cd9f-457b-f98a-33e7a5c302f2"
      },
      "execution_count": null,
      "outputs": [
        {
          "output_type": "stream",
          "name": "stdout",
          "text": [
            "welcome to class  \n"
          ]
        }
      ]
    },
    {
      "cell_type": "code",
      "source": [
        "obj.std(\"abc\")"
      ],
      "metadata": {
        "colab": {
          "base_uri": "https://localhost:8080/"
        },
        "id": "FZ2AzlcV70uZ",
        "outputId": "d7510741-3e32-46d5-83be-e2f3c8622941"
      },
      "execution_count": null,
      "outputs": [
        {
          "output_type": "stream",
          "name": "stdout",
          "text": [
            "welcome to class abc \n"
          ]
        }
      ]
    },
    {
      "cell_type": "code",
      "source": [
        "obj.std(\"abc\",\"xyz\")"
      ],
      "metadata": {
        "colab": {
          "base_uri": "https://localhost:8080/"
        },
        "id": "qkw7Rv5s7807",
        "outputId": "96c1404f-972e-479a-8b2f-3dc649f01cf0"
      },
      "execution_count": null,
      "outputs": [
        {
          "output_type": "stream",
          "name": "stdout",
          "text": [
            "welcome to class abc xyz\n"
          ]
        }
      ]
    },
    {
      "cell_type": "code",
      "source": [
        "# Method overriding\n",
        "class Animal:\n",
        "  def sound(self):\n",
        "    print(\"animal sound\")\n",
        "\n",
        "class Cat(Animal):\n",
        "  def sound(self):\n",
        "    print(\"cat meows\")\n",
        "\n",
        "cat = Cat()\n",
        "cat.sound()"
      ],
      "metadata": {
        "colab": {
          "base_uri": "https://localhost:8080/"
        },
        "id": "o0Ek-JFcLuEN",
        "outputId": "ee85d650-3f58-4b88-aed7-eee2705a1445"
      },
      "execution_count": 2,
      "outputs": [
        {
          "output_type": "stream",
          "name": "stdout",
          "text": [
            "cat meows\n"
          ]
        }
      ]
    }
  ]
}